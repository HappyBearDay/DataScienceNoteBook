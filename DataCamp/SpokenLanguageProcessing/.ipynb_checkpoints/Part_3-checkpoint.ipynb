{
 "cells": [
  {
   "cell_type": "markdown",
   "metadata": {},
   "source": [
    "# Speech Recognition by Data Camp\n",
    "## Part 3 : PyDub  \n",
    "\n",
    "##### git: https://github.com/jiaaro/pydub"
   ]
  },
  {
   "cell_type": "markdown",
   "metadata": {},
   "source": [
    "### Create an AudioSegment Instance   \n",
    "#### Composition of AudioSegment : \n",
    " - channels – the number of channels in the wave file (1 for mono, 2 for stereo, etc…\n",
    " - width – the number of bytes per sample\n",
    " - framerate – the number of frames per second (hertz)\n",
    " - nframes – the number of frames in the data stream\n",
    " - bytes – a string object containing the bytes of the data stream\n"
   ]
  },
  {
   "cell_type": "code",
   "execution_count": 1,
   "metadata": {},
   "outputs": [
    {
     "name": "stdout",
     "output_type": "stream",
     "text": [
      "<class 'pydub.audio_segment.AudioSegment'>\n"
     ]
    }
   ],
   "source": [
    "# Import AudioSegment from Pydub\n",
    "from pydub import AudioSegment\n",
    "\n",
    "# Create an AudioSegment instance\n",
    "wav_file = AudioSegment.from_file(file=\"./data_part_3/wav_file.wav\", \n",
    "                                  format=\"wav\")\n",
    "\n",
    "# Check the type\n",
    "print(type(wav_file))"
   ]
  },
  {
   "cell_type": "markdown",
   "metadata": {},
   "source": [
    "### Play audio file"
   ]
  },
  {
   "cell_type": "code",
   "execution_count": 2,
   "metadata": {},
   "outputs": [],
   "source": [
    "# Import play\n",
    "from pydub.playback import play\n",
    "\n",
    "# Play the audio file\n",
    "play(wav_file)"
   ]
  },
  {
   "cell_type": "markdown",
   "metadata": {},
   "source": [
    "### Retrieve Frame Rate"
   ]
  },
  {
   "cell_type": "code",
   "execution_count": 3,
   "metadata": {},
   "outputs": [
    {
     "name": "stdout",
     "output_type": "stream",
     "text": [
      "48000\n"
     ]
    }
   ],
   "source": [
    "# Find the frame rate\n",
    "print(wav_file.frame_rate)"
   ]
  },
  {
   "cell_type": "markdown",
   "metadata": {},
   "source": [
    "### Retieve number of channels"
   ]
  },
  {
   "cell_type": "code",
   "execution_count": 4,
   "metadata": {},
   "outputs": [
    {
     "name": "stdout",
     "output_type": "stream",
     "text": [
      "2\n"
     ]
    }
   ],
   "source": [
    "# Find the number of channels\n",
    "print(wav_file.channels)"
   ]
  },
  {
   "cell_type": "markdown",
   "metadata": {},
   "source": [
    "### Retieve the max amplitude "
   ]
  },
  {
   "cell_type": "code",
   "execution_count": 5,
   "metadata": {},
   "outputs": [
    {
     "name": "stdout",
     "output_type": "stream",
     "text": [
      "8484\n"
     ]
    }
   ],
   "source": [
    "# Find the max amplitude\n",
    "print(wav_file.max)"
   ]
  },
  {
   "cell_type": "markdown",
   "metadata": {},
   "source": [
    "### Retieve the length "
   ]
  },
  {
   "cell_type": "code",
   "execution_count": 6,
   "metadata": {},
   "outputs": [
    {
     "name": "stdout",
     "output_type": "stream",
     "text": [
      "3284\n"
     ]
    }
   ],
   "source": [
    "# Find the length\n",
    "print(len(wav_file))"
   ]
  },
  {
   "cell_type": "markdown",
   "metadata": {},
   "source": [
    "### Set frame rate"
   ]
  },
  {
   "cell_type": "code",
   "execution_count": 7,
   "metadata": {},
   "outputs": [
    {
     "name": "stdout",
     "output_type": "stream",
     "text": [
      "16000\n"
     ]
    }
   ],
   "source": [
    "# Create a new wav file with adjusted frame rate\n",
    "wav_file_16k = wav_file.set_frame_rate(16000)\n",
    "\n",
    "# Check the frame rate of the new wav file\n",
    "print(wav_file_16k.frame_rate)"
   ]
  },
  {
   "cell_type": "markdown",
   "metadata": {},
   "source": [
    "### Set Number of channels\n"
   ]
  },
  {
   "cell_type": "code",
   "execution_count": 8,
   "metadata": {},
   "outputs": [
    {
     "name": "stdout",
     "output_type": "stream",
     "text": [
      "1\n"
     ]
    }
   ],
   "source": [
    "# Set number of channels to 1\n",
    "wav_file_1_ch = wav_file.set_channels(1)\n",
    "\n",
    "# Check the number of channels\n",
    "print(wav_file_1_ch.channels)"
   ]
  },
  {
   "cell_type": "markdown",
   "metadata": {},
   "source": [
    "### Retieve & Set sample of width"
   ]
  },
  {
   "cell_type": "code",
   "execution_count": 9,
   "metadata": {},
   "outputs": [
    {
     "name": "stdout",
     "output_type": "stream",
     "text": [
      "Old sample width: 2\n",
      "New sample width: 1\n"
     ]
    }
   ],
   "source": [
    "# Print sample_width\n",
    "print(f\"Old sample width: {wav_file.sample_width}\")\n",
    "\n",
    "# Set sample_width to 1\n",
    "wav_file_sw_1 = wav_file.set_sample_width(1)\n",
    "\n",
    "# Check new sample_width\n",
    "print(f\"New sample width: {wav_file_sw_1.sample_width}\")"
   ]
  },
  {
   "cell_type": "markdown",
   "metadata": {},
   "source": [
    "### Turn up & Turn down the volume"
   ]
  },
  {
   "cell_type": "code",
   "execution_count": 10,
   "metadata": {},
   "outputs": [],
   "source": [
    "# Import audio file\n",
    "volume_adjusted = AudioSegment.from_file(\"./data_part_3/volume_adjusted.wav\")\n",
    "\n",
    "# Lower the volume by 60 dB\n",
    "quiet_volume_adjusted = volume_adjusted - 60\n",
    "\n",
    "\n",
    "# Increase the volume by 15 dB\n",
    "louder_volume_adjusted = volume_adjusted + 15"
   ]
  },
  {
   "cell_type": "markdown",
   "metadata": {},
   "source": [
    "### Normalize amplitude"
   ]
  },
  {
   "cell_type": "code",
   "execution_count": 11,
   "metadata": {},
   "outputs": [],
   "source": [
    "from pydub.effects import normalize\n",
    "\n",
    "# Import target audio file\n",
    "loud_then_quiet = AudioSegment.from_file(\"./data_part_3/loud_then_quiet.wav\")\n",
    "\n",
    "# Normalize target audio file\n",
    "normalized_loud_then_quiet = normalize(loud_then_quiet)"
   ]
  },
  {
   "cell_type": "markdown",
   "metadata": {},
   "source": [
    "### Chopping and changing audio files"
   ]
  },
  {
   "cell_type": "code",
   "execution_count": 12,
   "metadata": {},
   "outputs": [],
   "source": [
    "from pydub import AudioSegment\n",
    "\n",
    "# Import part 1 and part 2 audio files\n",
    "part_1 = AudioSegment.from_file(\"./data_part_3/ex3_slicing_part_1.wav\")\n",
    "part_2 = AudioSegment.from_file(\"./data_part_3/ex3_slicing_part_2.wav\")\n",
    "corrected_part_3 = AudioSegment.from_file(\"./data_part_3/ex3_slicing_part_3.wav\")\n",
    "\n",
    "# Remove the first four seconds of part 1\n",
    "part_1_removed = part_1[4000:]\n",
    "\n",
    "# Add the remainder of part 1 and part 2 together\n",
    "part_3 = part_1_removed + part_2"
   ]
  },
  {
   "cell_type": "markdown",
   "metadata": {},
   "source": [
    "### Splitting stereo audio to mono with PyDub"
   ]
  },
  {
   "cell_type": "code",
   "execution_count": 13,
   "metadata": {},
   "outputs": [
    {
     "name": "stdout",
     "output_type": "stream",
     "text": [
      "Stereo number channels: 2\n",
      "Split number channels: 1, 1\n"
     ]
    }
   ],
   "source": [
    "# Import AudioSegment\n",
    "from pydub import AudioSegment\n",
    "\n",
    "# Import stereo audio file and check channels\n",
    "stereo_phone_call = AudioSegment.from_file(\"./data_part_3/ex3_stereo_call.wav\")\n",
    "print(f\"Stereo number channels: {stereo_phone_call.channels}\")\n",
    "\n",
    "# Split stereo phone call and check channels\n",
    "channels = stereo_phone_call.split_to_mono()\n",
    "\n",
    "print(f\"Split number channels: {channels[0].channels}, {channels[1].channels}\")\n",
    "\n",
    "# Save new channels separately\n",
    "phone_call_channel_1 = channels[0]\n",
    "phone_call_channel_2 = channels[1]"
   ]
  },
  {
   "cell_type": "markdown",
   "metadata": {},
   "source": [
    "### Exporting and reformatting audio files"
   ]
  },
  {
   "cell_type": "code",
   "execution_count": 14,
   "metadata": {},
   "outputs": [
    {
     "data": {
      "text/plain": [
       "<_io.BufferedRandom name='./data_part_3/mp3_file.wav'>"
      ]
     },
     "execution_count": 14,
     "metadata": {},
     "output_type": "execute_result"
    }
   ],
   "source": [
    "from pydub import AudioSegment\n",
    "\n",
    "# Import the .mp3 file\n",
    "mp3_file = AudioSegment.from_file(\"./data_part_3/mp3_file.mp3\")\n",
    "\n",
    "# Export the .mp3 file as wav\n",
    "mp3_file.export(out_f=\"./data_part_3/mp3_file.wav\",\n",
    "                format=\"wav\")"
   ]
  },
  {
   "cell_type": "markdown",
   "metadata": {},
   "source": [
    "### Manipulating multiple audio files with PyDub"
   ]
  },
  {
   "cell_type": "code",
   "execution_count": 15,
   "metadata": {},
   "outputs": [],
   "source": [
    "import os"
   ]
  },
  {
   "cell_type": "code",
   "execution_count": 16,
   "metadata": {},
   "outputs": [],
   "source": [
    "def convertToWav(folder):\n",
    "    # Loop through the files in the folder\n",
    "    for audio_file in folder:\n",
    "\n",
    "        # Create the new .wav filename\n",
    "        wav_filename = os.path.splitext(os.path.basename(audio_file))[0] + \".wav\"\n",
    "\n",
    "        # Read audio_file and export it in wav format\n",
    "        AudioSegment.from_file(audio_file).export(out_f=wav_filename, \n",
    "                                          format=\"wav\")\n",
    "\n",
    "        print(f\"Creating {wav_filename}...\")"
   ]
  },
  {
   "cell_type": "markdown",
   "metadata": {},
   "source": [
    "### An audio processing workflow"
   ]
  },
  {
   "cell_type": "code",
   "execution_count": 17,
   "metadata": {},
   "outputs": [],
   "source": [
    "file_with_static = AudioSegment.from_file(\"./data_part_3/preprocessing_data/ex3-static-help-with-account.mp3\")\n",
    "\n",
    "# Cut the 3-seconds of static off\n",
    "file_without_static = file_with_static[3000:]\n",
    "\n",
    "# Increase the volume by 10dB\n",
    "louder_file_without_static = file_without_static + 10"
   ]
  },
  {
   "cell_type": "code",
   "execution_count": 18,
   "metadata": {},
   "outputs": [],
   "source": [
    "def preprocessingAudio(folder):\n",
    "    for audio_file in folder:\n",
    "        file_with_static = AudioSegment.from_file(audio_file)\n",
    "\n",
    "        # Cut the 3-seconds of static off\n",
    "        file_without_static = file_with_static[3000:]\n",
    "\n",
    "        # Increase the volume by 10dB\n",
    "        louder_file_without_static = file_without_static + 10\n",
    "\n",
    "        # Create the .wav filename for export\n",
    "        wav_filename = \"./data_part_3/preprocessing_data/\"+os.path.splitext(os.path.basename(audio_file))[0] + \".wav\"\n",
    "\n",
    "        # Export the louder file without static as .wav\n",
    "        louder_file_without_static.export(wav_filename, format=\"wav\")\n",
    "        print(f\"Creating {wav_filename}...\")"
   ]
  },
  {
   "cell_type": "code",
   "execution_count": 19,
   "metadata": {},
   "outputs": [
    {
     "name": "stdout",
     "output_type": "stream",
     "text": [
      "Creating ./data_part_3/preprocessing_data/ex3-static-help-with-account.wav...\n"
     ]
    }
   ],
   "source": [
    "preprocessingAudio([\"./data_part_3/preprocessing_data/ex3-static-help-with-account.mp3\"])"
   ]
  }
 ],
 "metadata": {
  "kernelspec": {
   "display_name": "Python 3",
   "language": "python",
   "name": "python3"
  },
  "language_info": {
   "codemirror_mode": {
    "name": "ipython",
    "version": 3
   },
   "file_extension": ".py",
   "mimetype": "text/x-python",
   "name": "python",
   "nbconvert_exporter": "python",
   "pygments_lexer": "ipython3",
   "version": "3.8.5"
  }
 },
 "nbformat": 4,
 "nbformat_minor": 4
}
