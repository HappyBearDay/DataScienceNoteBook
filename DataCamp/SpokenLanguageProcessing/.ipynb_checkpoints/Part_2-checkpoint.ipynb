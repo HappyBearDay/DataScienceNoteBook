{
 "cells": [
  {
   "cell_type": "markdown",
   "metadata": {},
   "source": [
    "# Speech Recognition by Data Camp\n",
    "## Part 2 : SpeechRecognition By Google  \n",
    "\n",
    "##### git: https://github.com/Uberi/speech_recognition#readme"
   ]
  },
  {
   "cell_type": "markdown",
   "metadata": {},
   "source": [
    "### A full audio process"
   ]
  },
  {
   "cell_type": "code",
   "execution_count": 1,
   "metadata": {},
   "outputs": [
    {
     "name": "stdout",
     "output_type": "stream",
     "text": [
      "hello I'd like to get some help setting up my account please\n"
     ]
    }
   ],
   "source": [
    "# import the SpeechRecognition library\n",
    "import speech_recognition as sr\n",
    "\n",
    "# Instantiate Recognizer\n",
    "recognizer = sr.Recognizer()\n",
    "\n",
    "# Set the energy threshold\n",
    "recognizer.energy_threshold = 300\n",
    "\n",
    "\n",
    "# Convert audio to AudioFile\n",
    "clean_support_call = sr.AudioFile(\"./data_part_2/clean_support_call.wav\")\n",
    "\n",
    "# Convert AudioFile to AudioData\n",
    "with clean_support_call as source:\n",
    "    clean_support_call_audio = recognizer.record(source,\n",
    "                                            duration=None,# the total duration of audio\n",
    "                                             offset=None)# Offset\n",
    "\n",
    "# Transcribe AudioData to text\n",
    "text = recognizer.recognize_google(clean_support_call_audio,\n",
    "                                   language=\"en-US\")\n",
    "print(text)"
   ]
  },
  {
   "cell_type": "markdown",
   "metadata": {},
   "source": [
    "### Foreign language"
   ]
  },
  {
   "cell_type": "code",
   "execution_count": 2,
   "metadata": {},
   "outputs": [
    {
     "name": "stdout",
     "output_type": "stream",
     "text": [
      "Ohio gozaimasu\n",
      "おはようございます\n"
     ]
    }
   ],
   "source": [
    "# Convert audio to AudioFile\n",
    "japanese_gm = sr.AudioFile(\"./data_part_2/good-morning-japanense.wav\")\n",
    "\n",
    "# Convert AudioFile to AudioData\n",
    "with japanese_gm as source:\n",
    "    japanese_audio = recognizer.record(source,\n",
    "                                            duration=None,# the total duration of audio\n",
    "                                             offset=None)# Offset\n",
    "\n",
    "# Pass the Japanese audio to recognize_google\n",
    "text_jap_en = recognizer.recognize_google(japanese_audio, language=\"en-US\")\n",
    "\n",
    "# Pass the Japanese audio to recognize_google\n",
    "text_jap_jap = recognizer.recognize_google(japanese_audio, language=\"ja\")\n",
    "\n",
    "# Print the text\n",
    "print(text_jap_en)\n",
    "# Print the text\n",
    "print(text_jap_jap)"
   ]
  },
  {
   "cell_type": "markdown",
   "metadata": {},
   "source": [
    "### Non-speech audio"
   ]
  },
  {
   "cell_type": "code",
   "execution_count": 3,
   "metadata": {},
   "outputs": [
    {
     "name": "stdout",
     "output_type": "stream",
     "text": [
      "[]\n"
     ]
    }
   ],
   "source": [
    "# Convert audio to AudioFile\n",
    "leopard = sr.AudioFile(\"./data_part_2/leopard.wav\")\n",
    "\n",
    "# Convert AudioFile to AudioData\n",
    "with leopard as source:\n",
    "    leopard_audio = recognizer.record(source,\n",
    "                                            duration=None,# the total duration of audio\n",
    "                                             offset=None)# Offset\n",
    "\n",
    "\n",
    "# Pass the leopard roar audio to recognize_google\n",
    "leopard_text = recognizer.recognize_google(leopard_audio, \n",
    "                                   language=\"en-US\", \n",
    "                                   show_all=True)\n",
    "\n",
    "# Print the text\n",
    "print(leopard_text)"
   ]
  },
  {
   "cell_type": "markdown",
   "metadata": {},
   "source": [
    "### Not real words (like a baby)"
   ]
  },
  {
   "cell_type": "code",
   "execution_count": 4,
   "metadata": {},
   "outputs": [
    {
     "name": "stdout",
     "output_type": "stream",
     "text": [
      "Charlie Charlie bit me\n"
     ]
    }
   ],
   "source": [
    "# Convert audio to AudioFile\n",
    "charlie = sr.AudioFile(\"./data_part_2/charlie-bit-me-5.wav\")\n",
    "\n",
    "# Convert AudioFile to AudioData\n",
    "with charlie as source:\n",
    "    charlie_audio = recognizer.record(source,\n",
    "                                            duration=None,# the total duration of audio\n",
    "                                             offset=None)# Offset\n",
    "\n",
    "\n",
    "# Pass charlie_audio to recognize_google\n",
    "text = recognizer.recognize_google(charlie_audio, \n",
    "                                   language=\"en-US\")\n",
    "\n",
    "# Print the text\n",
    "print(text)"
   ]
  },
  {
   "cell_type": "markdown",
   "metadata": {},
   "source": [
    "### Multiple Speakers 1"
   ]
  },
  {
   "cell_type": "code",
   "execution_count": 6,
   "metadata": {},
   "outputs": [
    {
     "name": "stdout",
     "output_type": "stream",
     "text": [
      "what are the limitations of the speech recognition library\n"
     ]
    }
   ],
   "source": [
    "# Convert audio to AudioFile\n",
    "multiple_speakers = sr.AudioFile(\"./data_part_2/multiple-speakers-16k.wav\")\n",
    "\n",
    "# Convert AudioFile to AudioData\n",
    "with multiple_speakers as source:\n",
    "    multiple_speakers_audio = recognizer.record(source,\n",
    "                                            duration=None,# the total duration of audio\n",
    "                                             offset=None)# Offset\n",
    "\n",
    "\n",
    "# Pass charlie_audio to recognize_google\n",
    "multiple_speakers_text = recognizer.recognize_google(multiple_speakers_audio, \n",
    "                                   language=\"en-US\")\n",
    "\n",
    "# Print the text\n",
    "print(multiple_speakers_text)"
   ]
  },
  {
   "cell_type": "markdown",
   "metadata": {},
   "source": [
    "### Noise audio"
   ]
  },
  {
   "cell_type": "code",
   "execution_count": 7,
   "metadata": {},
   "outputs": [
    {
     "name": "stdout",
     "output_type": "stream",
     "text": [
      "{'alternative': [{'transcript': \"hello I'd like to get my account please\", 'confidence': 0.80365998}, {'transcript': \"hello I'm sending up my account please\"}, {'transcript': \"hello I'm sending out my account please\"}, {'transcript': 'hello I meant to get up my account please'}, {'transcript': \"hello I'd like to get my help please\"}], 'final': True}\n"
     ]
    }
   ],
   "source": [
    "# Convert audio to AudioFile\n",
    "noisy_support_call = sr.AudioFile(\"./data_part_2/2-noisy-support-call.wav\")\n",
    "\n",
    "\n",
    "recognizer = sr.Recognizer()\n",
    "\n",
    "# Record the audio from the noisy support call\n",
    "with noisy_support_call as source:\n",
    "\t# Adjust the recognizer energy threshold for ambient noise\n",
    "    recognizer.adjust_for_ambient_noise(source, duration=0.5)\n",
    "    noisy_support_call_audio = recognizer.record(noisy_support_call)\n",
    "\n",
    "\n",
    "# Transcribe the speech from the noisy support call\n",
    "text = recognizer.recognize_google(noisy_support_call_audio,\n",
    "                                   language=\"en-US\",\n",
    "                                   show_all=True)\n",
    "\n",
    "print(text)"
   ]
  }
 ],
 "metadata": {
  "kernelspec": {
   "display_name": "Python 3",
   "language": "python",
   "name": "python3"
  },
  "language_info": {
   "codemirror_mode": {
    "name": "ipython",
    "version": 3
   },
   "file_extension": ".py",
   "mimetype": "text/x-python",
   "name": "python",
   "nbconvert_exporter": "python",
   "pygments_lexer": "ipython3",
   "version": "3.8.5"
  }
 },
 "nbformat": 4,
 "nbformat_minor": 4
}
